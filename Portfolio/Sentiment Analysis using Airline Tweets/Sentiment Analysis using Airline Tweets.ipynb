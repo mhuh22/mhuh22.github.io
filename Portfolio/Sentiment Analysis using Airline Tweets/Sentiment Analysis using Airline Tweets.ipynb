{
 "cells": [
  {
   "cell_type": "markdown",
   "metadata": {},
   "source": [
    "# Sentiment Analysis using Airline Tweets\n",
    "Author: Matthew Huh\n",
    "\n",
    "## Introduction\n",
    "\n",
    "Social media is a treasure trove of textual data. It’s a free and easy way for users to express themselves and share whatever they want to say, get attention, and even start movements. \n",
    "\n",
    "It’s a powerful way for companies to get an idea of what users think about them, understand how their brands may be perceived, and identify ways to improve business by analyzing the concerns that users have with their products or services. And that is what I aim to accomplish in this project, by analyzing mentions of a few airlines and determining how people perceive their options, and evaluate what concerns people are mentioning. \n",
    "\n",
    "\n",
    "## About the Data\n",
    "\n",
    "The data for this project has been obtained from two sources. The first data set is a collection of data pre-compiled from crowdflower, and is freely available on Kaggle. The second data set has been obtained using Twitter’s API (tweepy to be precise) \n",
    "\n",
    "The first data set has far more information as the data has been reviewed by people to determine the sentiment, and the rationale behind negative comments. The tweets have been evaluated by people and for the sake of simplicity, we will be assuming that those results are correct. The data set contains data from February 2015 and only mentions 6 different airlines ('American', 'Delta', 'Southwest', 'US Airways', 'United', 'Virgin America'). \n",
    "\n",
    "Our second data set is more recent, November 2018, and has both the same airlines in our training set, but also a few more airlines that aren’t. This is done in order to introduce data that we haven’t trained with yet. In theory, the models developed in this project should be able to do just that.\n",
    "\n",
    "## Research Question\n",
    "\n",
    "How accurate of a model can we build to determine a tweet's sentiment?\n",
    "\n",
    "## Sources\n",
    "\n",
    "https://www.kaggle.com/crowdflower/twitter-airline-sentiment (Pre-compiled Kaggle data)\n",
    "\n",
    "http://nbviewer.jupyter.org/github/mhuh22/Thinkful/blob/master/Bootcamp/Unit%207/Twitter%20API%20%40Airline%20Tweets.ipynb (Tweepy Script)\n",
    "\n",
    "<div class=\"alert alert-block alert-warning\">\n",
    "Note: The visuals for this project do not render correctly on Github; if you would like to view the presentation the way it was meant to be viewed, please click on the following link.\n",
    "\n",
    "http://nbviewer.jupyter.org/github/mhuh22/Portfolio/blob/master/Sentiment%20Analysis%20with%20Airline%20Tweets/Airline%20Sentiment%20Analysis%20using%20Twitter%20Data.ipynb\n",
    "</div>\n",
    "\n",
    "## Packages"
   ]
  },
  {
   "cell_type": "code",
   "execution_count": 1,
   "metadata": {},
   "outputs": [
    {
     "name": "stderr",
     "output_type": "stream",
     "text": [
      "C:\\Users\\mhuh22\\Anaconda3\\lib\\site-packages\\sklearn\\ensemble\\weight_boosting.py:29: DeprecationWarning: numpy.core.umath_tests is an internal NumPy module and should not be imported. It will be removed in a future NumPy release.\n",
      "  from numpy.core.umath_tests import inner1d\n"
     ]
    },
    {
     "data": {
      "text/html": [
       "<script type=\"text/javascript\">window.PlotlyConfig = {MathJaxConfig: 'local'};</script><script type=\"text/javascript\">if (window.MathJax) {MathJax.Hub.Config({SVG: {font: \"STIX-Web\"}});}</script><script>requirejs.config({paths: { 'plotly': ['https://cdn.plot.ly/plotly-latest.min']},});if(!window._Plotly) {require(['plotly'],function(plotly) {window._Plotly=plotly;});}</script>"
      ],
      "text/vnd.plotly.v1+html": [
       "<script type=\"text/javascript\">window.PlotlyConfig = {MathJaxConfig: 'local'};</script><script type=\"text/javascript\">if (window.MathJax) {MathJax.Hub.Config({SVG: {font: \"STIX-Web\"}});}</script><script>requirejs.config({paths: { 'plotly': ['https://cdn.plot.ly/plotly-latest.min']},});if(!window._Plotly) {require(['plotly'],function(plotly) {window._Plotly=plotly;});}</script>"
      ]
     },
     "metadata": {},
     "output_type": "display_data"
    }
   ],
   "source": [
    "# Necessary imports\n",
    "import os\n",
    "import time\n",
    "import timeit\n",
    "import numpy as np\n",
    "import pandas as pd\n",
    "import scipy\n",
    "import sklearn\n",
    "import matplotlib.pyplot as plt\n",
    "import seaborn as sns\n",
    "from sklearn.utils import resample\n",
    "%matplotlib inline\n",
    "\n",
    "# Modelling packages\n",
    "from sklearn import ensemble\n",
    "from sklearn.feature_selection import chi2, f_classif, SelectKBest \n",
    "from sklearn.linear_model import LogisticRegression\n",
    "from sklearn.metrics import adjusted_rand_score, classification_report, confusion_matrix, silhouette_score\n",
    "from sklearn.model_selection import cross_val_score, GridSearchCV, train_test_split\n",
    "from sklearn.neural_network import MLPClassifier\n",
    "from sklearn.preprocessing import normalize\n",
    "\n",
    "# Natural Language processing\n",
    "import nltk\n",
    "import re\n",
    "import spacy\n",
    "from collections import Counter\n",
    "from nltk.corpus import stopwords\n",
    "from nltk.stem import WordNetLemmatizer\n",
    "from sklearn.datasets import fetch_rcv1\n",
    "from sklearn.decomposition import NMF, TruncatedSVD, LatentDirichletAllocation as LDA\n",
    "from sklearn.feature_extraction.text import TfidfVectorizer\n",
    "from sklearn.pipeline import make_pipeline\n",
    "from sklearn.preprocessing import Normalizer\n",
    "from nltk.corpus import stopwords\n",
    "from wordcloud import WordCloud, STOPWORDS\n",
    "\n",
    "# Clustering packages\n",
    "import sklearn.cluster as cluster\n",
    "from sklearn.cluster import KMeans, MeanShift, estimate_bandwidth, SpectralClustering, AffinityPropagation\n",
    "from scipy.spatial.distance import cdist\n",
    "\n",
    "# Plotly packages\n",
    "import cufflinks as cf\n",
    "import ipywidgets as widgets\n",
    "import plotly as py\n",
    "import plotly.figure_factory as ff\n",
    "import plotly.graph_objs as go\n",
    "from plotly import tools\n",
    "from scipy import special\n",
    "py.offline.init_notebook_mode(connected=True)"
   ]
  },
  {
   "cell_type": "code",
   "execution_count": 2,
   "metadata": {},
   "outputs": [
    {
     "data": {
      "text/html": [
       "<div>\n",
       "<style scoped>\n",
       "    .dataframe tbody tr th:only-of-type {\n",
       "        vertical-align: middle;\n",
       "    }\n",
       "\n",
       "    .dataframe tbody tr th {\n",
       "        vertical-align: top;\n",
       "    }\n",
       "\n",
       "    .dataframe thead th {\n",
       "        text-align: right;\n",
       "    }\n",
       "</style>\n",
       "<table border=\"1\" class=\"dataframe\">\n",
       "  <thead>\n",
       "    <tr style=\"text-align: right;\">\n",
       "      <th></th>\n",
       "      <th>tweet_id</th>\n",
       "      <th>airline_sentiment</th>\n",
       "      <th>airline_sentiment_confidence</th>\n",
       "      <th>negativereason</th>\n",
       "      <th>negativereason_confidence</th>\n",
       "      <th>airline</th>\n",
       "      <th>airline_sentiment_gold</th>\n",
       "      <th>name</th>\n",
       "      <th>negativereason_gold</th>\n",
       "      <th>retweet_count</th>\n",
       "      <th>text</th>\n",
       "      <th>tweet_coord</th>\n",
       "      <th>tweet_created</th>\n",
       "      <th>tweet_location</th>\n",
       "      <th>user_timezone</th>\n",
       "    </tr>\n",
       "  </thead>\n",
       "  <tbody>\n",
       "    <tr>\n",
       "      <th>0</th>\n",
       "      <td>570306133677760513</td>\n",
       "      <td>neutral</td>\n",
       "      <td>1.0000</td>\n",
       "      <td>NaN</td>\n",
       "      <td>NaN</td>\n",
       "      <td>Virgin America</td>\n",
       "      <td>NaN</td>\n",
       "      <td>cairdin</td>\n",
       "      <td>NaN</td>\n",
       "      <td>0</td>\n",
       "      <td>@VirginAmerica What @dhepburn said.</td>\n",
       "      <td>NaN</td>\n",
       "      <td>2015-02-24 11:35:52 -0800</td>\n",
       "      <td>NaN</td>\n",
       "      <td>Eastern Time (US &amp; Canada)</td>\n",
       "    </tr>\n",
       "    <tr>\n",
       "      <th>1</th>\n",
       "      <td>570301130888122368</td>\n",
       "      <td>positive</td>\n",
       "      <td>0.3486</td>\n",
       "      <td>NaN</td>\n",
       "      <td>0.0000</td>\n",
       "      <td>Virgin America</td>\n",
       "      <td>NaN</td>\n",
       "      <td>jnardino</td>\n",
       "      <td>NaN</td>\n",
       "      <td>0</td>\n",
       "      <td>@VirginAmerica plus you've added commercials t...</td>\n",
       "      <td>NaN</td>\n",
       "      <td>2015-02-24 11:15:59 -0800</td>\n",
       "      <td>NaN</td>\n",
       "      <td>Pacific Time (US &amp; Canada)</td>\n",
       "    </tr>\n",
       "    <tr>\n",
       "      <th>2</th>\n",
       "      <td>570301083672813571</td>\n",
       "      <td>neutral</td>\n",
       "      <td>0.6837</td>\n",
       "      <td>NaN</td>\n",
       "      <td>NaN</td>\n",
       "      <td>Virgin America</td>\n",
       "      <td>NaN</td>\n",
       "      <td>yvonnalynn</td>\n",
       "      <td>NaN</td>\n",
       "      <td>0</td>\n",
       "      <td>@VirginAmerica I didn't today... Must mean I n...</td>\n",
       "      <td>NaN</td>\n",
       "      <td>2015-02-24 11:15:48 -0800</td>\n",
       "      <td>Lets Play</td>\n",
       "      <td>Central Time (US &amp; Canada)</td>\n",
       "    </tr>\n",
       "    <tr>\n",
       "      <th>3</th>\n",
       "      <td>570301031407624196</td>\n",
       "      <td>negative</td>\n",
       "      <td>1.0000</td>\n",
       "      <td>Bad Flight</td>\n",
       "      <td>0.7033</td>\n",
       "      <td>Virgin America</td>\n",
       "      <td>NaN</td>\n",
       "      <td>jnardino</td>\n",
       "      <td>NaN</td>\n",
       "      <td>0</td>\n",
       "      <td>@VirginAmerica it's really aggressive to blast...</td>\n",
       "      <td>NaN</td>\n",
       "      <td>2015-02-24 11:15:36 -0800</td>\n",
       "      <td>NaN</td>\n",
       "      <td>Pacific Time (US &amp; Canada)</td>\n",
       "    </tr>\n",
       "    <tr>\n",
       "      <th>4</th>\n",
       "      <td>570300817074462722</td>\n",
       "      <td>negative</td>\n",
       "      <td>1.0000</td>\n",
       "      <td>Can't Tell</td>\n",
       "      <td>1.0000</td>\n",
       "      <td>Virgin America</td>\n",
       "      <td>NaN</td>\n",
       "      <td>jnardino</td>\n",
       "      <td>NaN</td>\n",
       "      <td>0</td>\n",
       "      <td>@VirginAmerica and it's a really big bad thing...</td>\n",
       "      <td>NaN</td>\n",
       "      <td>2015-02-24 11:14:45 -0800</td>\n",
       "      <td>NaN</td>\n",
       "      <td>Pacific Time (US &amp; Canada)</td>\n",
       "    </tr>\n",
       "  </tbody>\n",
       "</table>\n",
       "</div>"
      ],
      "text/plain": [
       "             tweet_id airline_sentiment  airline_sentiment_confidence  \\\n",
       "0  570306133677760513           neutral                        1.0000   \n",
       "1  570301130888122368          positive                        0.3486   \n",
       "2  570301083672813571           neutral                        0.6837   \n",
       "3  570301031407624196          negative                        1.0000   \n",
       "4  570300817074462722          negative                        1.0000   \n",
       "\n",
       "  negativereason  negativereason_confidence         airline  \\\n",
       "0            NaN                        NaN  Virgin America   \n",
       "1            NaN                     0.0000  Virgin America   \n",
       "2            NaN                        NaN  Virgin America   \n",
       "3     Bad Flight                     0.7033  Virgin America   \n",
       "4     Can't Tell                     1.0000  Virgin America   \n",
       "\n",
       "  airline_sentiment_gold        name negativereason_gold  retweet_count  \\\n",
       "0                    NaN     cairdin                 NaN              0   \n",
       "1                    NaN    jnardino                 NaN              0   \n",
       "2                    NaN  yvonnalynn                 NaN              0   \n",
       "3                    NaN    jnardino                 NaN              0   \n",
       "4                    NaN    jnardino                 NaN              0   \n",
       "\n",
       "                                                text tweet_coord  \\\n",
       "0                @VirginAmerica What @dhepburn said.         NaN   \n",
       "1  @VirginAmerica plus you've added commercials t...         NaN   \n",
       "2  @VirginAmerica I didn't today... Must mean I n...         NaN   \n",
       "3  @VirginAmerica it's really aggressive to blast...         NaN   \n",
       "4  @VirginAmerica and it's a really big bad thing...         NaN   \n",
       "\n",
       "               tweet_created tweet_location               user_timezone  \n",
       "0  2015-02-24 11:35:52 -0800            NaN  Eastern Time (US & Canada)  \n",
       "1  2015-02-24 11:15:59 -0800            NaN  Pacific Time (US & Canada)  \n",
       "2  2015-02-24 11:15:48 -0800      Lets Play  Central Time (US & Canada)  \n",
       "3  2015-02-24 11:15:36 -0800            NaN  Pacific Time (US & Canada)  \n",
       "4  2015-02-24 11:14:45 -0800            NaN  Pacific Time (US & Canada)  "
      ]
     },
     "execution_count": 2,
     "metadata": {},
     "output_type": "execute_result"
    }
   ],
   "source": [
    "# Import the data\n",
    "tweets = pd.read_csv(\"airline_tweets/Tweets.csv\")\n",
    "\n",
    "# Preview the dataset\n",
    "tweets.head()"
   ]
  },
  {
   "cell_type": "code",
   "execution_count": 3,
   "metadata": {},
   "outputs": [
    {
     "data": {
      "text/plain": [
       "(14640, 15)"
      ]
     },
     "execution_count": 3,
     "metadata": {},
     "output_type": "execute_result"
    }
   ],
   "source": [
    "# View the size of the dataset\n",
    "tweets.shape"
   ]
  },
  {
   "cell_type": "markdown",
   "metadata": {},
   "source": [
    "This dataset has a bit more information than we actually need for this project. We definitely need the text information since that is what we are evaluating, the sentiment since that is what we are trying to measure, and the reason to determine what clusters of complaints people are encountering. As for the rest, they could have some impact on the outcome, but they are not what we are trying to measure so, we'll drop the rest before continuing in order to improve our runtimes."
   ]
  },
  {
   "cell_type": "code",
   "execution_count": 4,
   "metadata": {},
   "outputs": [],
   "source": [
    "# Condense dataframe to only include what we want\n",
    "tweets = tweets[['airline_sentiment', 'negativereason', 'airline', 'text']]"
   ]
  },
  {
   "cell_type": "code",
   "execution_count": 5,
   "metadata": {},
   "outputs": [
    {
     "data": {
      "text/plain": [
       "['American', 'Delta', 'Southwest', 'US Airways', 'United', 'Virgin America']"
      ]
     },
     "execution_count": 5,
     "metadata": {},
     "output_type": "execute_result"
    }
   ],
   "source": [
    "# Print unique airlines in the dataset\n",
    "sorted(tweets['airline'].unique())"
   ]
  },
  {
   "cell_type": "code",
   "execution_count": null,
   "metadata": {},
   "outputs": [],
   "source": []
  },
  {
   "cell_type": "code",
   "execution_count": 6,
   "metadata": {},
   "outputs": [
    {
     "data": {
      "text/plain": [
       "airline_sentiment        3\n",
       "negativereason          10\n",
       "airline                  6\n",
       "text                 14427\n",
       "dtype: int64"
      ]
     },
     "execution_count": 6,
     "metadata": {},
     "output_type": "execute_result"
    }
   ],
   "source": [
    "# Describe unique occurences for each categorical variable\n",
    "tweets.nunique()"
   ]
  },
  {
   "cell_type": "markdown",
   "metadata": {},
   "source": [
    "## Data Visualization"
   ]
  },
  {
   "cell_type": "code",
   "execution_count": 7,
   "metadata": {},
   "outputs": [
    {
     "data": {
      "application/vnd.plotly.v1+json": {
       "data": [
        {
         "labels": [
          "negative",
          "neutral",
          "positive"
         ],
         "type": "pie",
         "uid": "873fc911-af6c-4a0c-891f-e478670b9a6a",
         "values": [
          9178,
          3099,
          2363
         ]
        }
       ],
       "layout": {
        "autosize": false,
        "height": 400,
        "title": "Tweet Sentiment",
        "width": 500,
        "yaxis": {
         "title": "Number of tweets"
        }
       }
      },
      "text/html": [
       "<div id=\"d2795301-dc83-4ad8-83bf-5c67669cf263\" style=\"height: 400px; width: 500px;\" class=\"plotly-graph-div\"></div><script type=\"text/javascript\">require([\"plotly\"], function(Plotly) { window.PLOTLYENV=window.PLOTLYENV || {};window.PLOTLYENV.BASE_URL=\"https://plot.ly\";Plotly.newPlot(\"d2795301-dc83-4ad8-83bf-5c67669cf263\", [{\"labels\": [\"negative\", \"neutral\", \"positive\"], \"values\": [9178, 3099, 2363], \"type\": \"pie\", \"uid\": \"873fc911-af6c-4a0c-891f-e478670b9a6a\"}], {\"autosize\": false, \"height\": 400, \"title\": \"Tweet Sentiment\", \"width\": 500, \"yaxis\": {\"title\": \"Number of tweets\"}}, {\"showLink\": true, \"linkText\": \"Export to plot.ly\"})});</script>"
      ],
      "text/vnd.plotly.v1+html": [
       "<div id=\"d2795301-dc83-4ad8-83bf-5c67669cf263\" style=\"height: 400px; width: 500px;\" class=\"plotly-graph-div\"></div><script type=\"text/javascript\">require([\"plotly\"], function(Plotly) { window.PLOTLYENV=window.PLOTLYENV || {};window.PLOTLYENV.BASE_URL=\"https://plot.ly\";Plotly.newPlot(\"d2795301-dc83-4ad8-83bf-5c67669cf263\", [{\"labels\": [\"negative\", \"neutral\", \"positive\"], \"values\": [9178, 3099, 2363], \"type\": \"pie\", \"uid\": \"873fc911-af6c-4a0c-891f-e478670b9a6a\"}], {\"autosize\": false, \"height\": 400, \"title\": \"Tweet Sentiment\", \"width\": 500, \"yaxis\": {\"title\": \"Number of tweets\"}}, {\"showLink\": true, \"linkText\": \"Export to plot.ly\"})});</script>"
      ]
     },
     "metadata": {},
     "output_type": "display_data"
    }
   ],
   "source": [
    "# View distribution of tweets by sentiment \n",
    "# (Changing colors to red/gray/green would be nice)\n",
    "trace = go.Pie(labels=tweets['airline_sentiment'].value_counts().index, \n",
    "              values=tweets['airline_sentiment'].value_counts())\n",
    "\n",
    "# Create the layout\n",
    "layout = go.Layout(\n",
    "    title = 'Tweet Sentiment',\n",
    "    height = 400,\n",
    "    width = 500,\n",
    "    autosize = False,\n",
    "    yaxis = dict(title='Number of tweets')\n",
    ")\n",
    "\n",
    "fig = go.Figure(data = [trace], layout = layout)\n",
    "py.offline.iplot(fig, filename='cufflinks/simple')"
   ]
  },
  {
   "cell_type": "markdown",
   "metadata": {},
   "source": [
    "Based on the sentiment values in our dataset, it appears as though practically ⅔ of the tweets aren’t too happy about their choice of airline, while only ⅙ mention it in a positive way. We do have to keep in mind that these are tweets, not reviews, so they are mostly a form of expression, or expressing a concern/complaint more so than thinking about the experience as whole. "
   ]
  },
  {
   "cell_type": "code",
   "execution_count": 8,
   "metadata": {},
   "outputs": [
    {
     "data": {
      "application/vnd.plotly.v1+json": {
       "data": [
        {
         "opacity": 0.7,
         "text": [
          2910,
          1665,
          1190,
          847,
          724,
          580,
          529,
          481,
          178,
          74
         ],
         "textposition": "outside",
         "type": "bar",
         "uid": "1c69ff69-c529-4720-aaf0-c62b331db410",
         "x": [
          "Customer Service Issue",
          "Late Flight",
          "Can't Tell",
          "Cancelled Flight",
          "Lost Luggage",
          "Bad Flight",
          "Flight Booking Problems",
          "Flight Attendant Complaints",
          "longlines",
          "Damaged Luggage"
         ],
         "y": [
          2910,
          1665,
          1190,
          847,
          724,
          580,
          529,
          481,
          178,
          74
         ]
        }
       ],
       "layout": {
        "title": "Negative Tweets by Reason",
        "yaxis": {
         "title": "Number of tweets"
        }
       }
      },
      "text/html": [
       "<div id=\"91aeb093-05a2-4bef-9668-850ec2247506\" style=\"height: 525px; width: 100%;\" class=\"plotly-graph-div\"></div><script type=\"text/javascript\">require([\"plotly\"], function(Plotly) { window.PLOTLYENV=window.PLOTLYENV || {};window.PLOTLYENV.BASE_URL=\"https://plot.ly\";Plotly.newPlot(\"91aeb093-05a2-4bef-9668-850ec2247506\", [{\"opacity\": 0.7, \"text\": [2910.0, 1665.0, 1190.0, 847.0, 724.0, 580.0, 529.0, 481.0, 178.0, 74.0], \"textposition\": \"outside\", \"x\": [\"Customer Service Issue\", \"Late Flight\", \"Can't Tell\", \"Cancelled Flight\", \"Lost Luggage\", \"Bad Flight\", \"Flight Booking Problems\", \"Flight Attendant Complaints\", \"longlines\", \"Damaged Luggage\"], \"y\": [2910, 1665, 1190, 847, 724, 580, 529, 481, 178, 74], \"type\": \"bar\", \"uid\": \"1c69ff69-c529-4720-aaf0-c62b331db410\"}], {\"title\": \"Negative Tweets by Reason\", \"yaxis\": {\"title\": \"Number of tweets\"}}, {\"showLink\": true, \"linkText\": \"Export to plot.ly\"})});</script><script type=\"text/javascript\">window.addEventListener(\"resize\", function(){window._Plotly.Plots.resize(document.getElementById(\"91aeb093-05a2-4bef-9668-850ec2247506\"));});</script>"
      ],
      "text/vnd.plotly.v1+html": [
       "<div id=\"91aeb093-05a2-4bef-9668-850ec2247506\" style=\"height: 525px; width: 100%;\" class=\"plotly-graph-div\"></div><script type=\"text/javascript\">require([\"plotly\"], function(Plotly) { window.PLOTLYENV=window.PLOTLYENV || {};window.PLOTLYENV.BASE_URL=\"https://plot.ly\";Plotly.newPlot(\"91aeb093-05a2-4bef-9668-850ec2247506\", [{\"opacity\": 0.7, \"text\": [2910.0, 1665.0, 1190.0, 847.0, 724.0, 580.0, 529.0, 481.0, 178.0, 74.0], \"textposition\": \"outside\", \"x\": [\"Customer Service Issue\", \"Late Flight\", \"Can't Tell\", \"Cancelled Flight\", \"Lost Luggage\", \"Bad Flight\", \"Flight Booking Problems\", \"Flight Attendant Complaints\", \"longlines\", \"Damaged Luggage\"], \"y\": [2910, 1665, 1190, 847, 724, 580, 529, 481, 178, 74], \"type\": \"bar\", \"uid\": \"1c69ff69-c529-4720-aaf0-c62b331db410\"}], {\"title\": \"Negative Tweets by Reason\", \"yaxis\": {\"title\": \"Number of tweets\"}}, {\"showLink\": true, \"linkText\": \"Export to plot.ly\"})});</script><script type=\"text/javascript\">window.addEventListener(\"resize\", function(){window._Plotly.Plots.resize(document.getElementById(\"91aeb093-05a2-4bef-9668-850ec2247506\"));});</script>"
      ]
     },
     "metadata": {},
     "output_type": "display_data"
    }
   ],
   "source": [
    "# Plots the complaint reasons, and their frequency\n",
    "# (It might be nice to somehow show how common each reason is for each airline)\n",
    "\n",
    "# The input is the number of negative tweets by reason\n",
    "data = [go.Bar(\n",
    "    x = tweets.negativereason.value_counts().index,\n",
    "    y = tweets.negativereason.value_counts(),\n",
    "    opacity = 0.7,\n",
    "    text=tweets.negativereason.value_counts(),\n",
    "    textposition='outside'\n",
    ")]\n",
    "\n",
    "# Create the layout\n",
    "layout = go.Layout(\n",
    "    title = 'Negative Tweets by Reason',\n",
    "    yaxis = dict(title='Number of tweets')\n",
    ")\n",
    "\n",
    "fig = go.Figure(data = data, layout = layout)\n",
    "py.offline.iplot(fig, filename='cufflinks/simple')"
   ]
  },
  {
   "cell_type": "markdown",
   "metadata": {},
   "source": [
    "Out of the 9000 negative tweets in our dataset, the reasons have been distilled into 10 categories, with the most common reason for it has being related to customer service. Let’s take a look at what those complaints look like."
   ]
  },
  {
   "cell_type": "code",
   "execution_count": 9,
   "metadata": {},
   "outputs": [
    {
     "data": {
      "text/plain": [
       "24    @VirginAmerica you guys messed up my seating.. I reserved seating with my friends and you guys gave my seat away ... 😡 I want free internet\n",
       "25                               @VirginAmerica status match program.  I applied and it's been three weeks.  Called and emailed with no response.\n",
       "32                 @VirginAmerica help, left expensive headphones on flight 89 IAD to LAX today. Seat 2A. No one answering L&amp;F number at LAX!\n",
       "33                                      @VirginAmerica awaiting my return phone call, just would prefer to use your online self-service option :(\n",
       "39                                                           @VirginAmerica Your chat support is not working on your site: http://t.co/vhp2GtDWPk\n",
       "Name: text, dtype: object"
      ]
     },
     "execution_count": 9,
     "metadata": {},
     "output_type": "execute_result"
    }
   ],
   "source": [
    "pd.options.display.max_colwidth = 200\n",
    "tweets.loc[tweets['negativereason']=='Customer Service Issue']['text'].head()"
   ]
  },
  {
   "cell_type": "code",
   "execution_count": 10,
   "metadata": {},
   "outputs": [
    {
     "data": {
      "application/vnd.plotly.v1+json": {
       "data": [
        {
         "marker": {
          "color": "rgba(200,0,0,.7)"
         },
         "name": "Negative",
         "type": "bar",
         "uid": "4b75a38d-52d2-41d2-979c-85a25e8c69aa",
         "x": [
          "American",
          "Delta",
          "Southwest",
          "US Airways",
          "United",
          "Virgin America"
         ],
         "y": [
          1960,
          955,
          1186,
          2263,
          2633,
          181
         ]
        },
        {
         "marker": {
          "color": "rgba(150,150,150,.7)"
         },
         "name": "Neutral",
         "type": "bar",
         "uid": "4de49ab0-2b1a-43a9-8702-ce5d1ef02845",
         "x": [
          "American",
          "Delta",
          "Southwest",
          "US Airways",
          "United",
          "Virgin America"
         ],
         "y": [
          463,
          723,
          664,
          381,
          697,
          171
         ]
        },
        {
         "marker": {
          "color": "rgba(0,200,0,.7)"
         },
         "name": "Positive",
         "type": "bar",
         "uid": "d6f1c200-5242-47af-9d03-f3b23a868a86",
         "x": [
          "American",
          "Delta",
          "Southwest",
          "US Airways",
          "United",
          "Virgin America"
         ],
         "y": [
          336,
          544,
          570,
          269,
          492,
          152
         ]
        }
       ],
       "layout": {
        "barmode": "group",
        "title": "Airline Sentiment (Total Tweets)",
        "yaxis": {
         "title": "Number of tweets"
        }
       }
      },
      "text/html": [
       "<div id=\"ab8f555a-3216-46ea-bc1d-117753359fc5\" style=\"height: 525px; width: 100%;\" class=\"plotly-graph-div\"></div><script type=\"text/javascript\">require([\"plotly\"], function(Plotly) { window.PLOTLYENV=window.PLOTLYENV || {};window.PLOTLYENV.BASE_URL=\"https://plot.ly\";Plotly.newPlot(\"ab8f555a-3216-46ea-bc1d-117753359fc5\", [{\"marker\": {\"color\": \"rgba(200,0,0,.7)\"}, \"name\": \"Negative\", \"x\": [\"American\", \"Delta\", \"Southwest\", \"US Airways\", \"United\", \"Virgin America\"], \"y\": [1960, 955, 1186, 2263, 2633, 181], \"type\": \"bar\", \"uid\": \"4b75a38d-52d2-41d2-979c-85a25e8c69aa\"}, {\"marker\": {\"color\": \"rgba(150,150,150,.7)\"}, \"name\": \"Neutral\", \"x\": [\"American\", \"Delta\", \"Southwest\", \"US Airways\", \"United\", \"Virgin America\"], \"y\": [463, 723, 664, 381, 697, 171], \"type\": \"bar\", \"uid\": \"4de49ab0-2b1a-43a9-8702-ce5d1ef02845\"}, {\"marker\": {\"color\": \"rgba(0,200,0,.7)\"}, \"name\": \"Positive\", \"x\": [\"American\", \"Delta\", \"Southwest\", \"US Airways\", \"United\", \"Virgin America\"], \"y\": [336, 544, 570, 269, 492, 152], \"type\": \"bar\", \"uid\": \"d6f1c200-5242-47af-9d03-f3b23a868a86\"}], {\"barmode\": \"group\", \"title\": \"Airline Sentiment (Total Tweets)\", \"yaxis\": {\"title\": \"Number of tweets\"}}, {\"showLink\": true, \"linkText\": \"Export to plot.ly\"})});</script><script type=\"text/javascript\">window.addEventListener(\"resize\", function(){window._Plotly.Plots.resize(document.getElementById(\"ab8f555a-3216-46ea-bc1d-117753359fc5\"));});</script>"
      ],
      "text/vnd.plotly.v1+html": [
       "<div id=\"ab8f555a-3216-46ea-bc1d-117753359fc5\" style=\"height: 525px; width: 100%;\" class=\"plotly-graph-div\"></div><script type=\"text/javascript\">require([\"plotly\"], function(Plotly) { window.PLOTLYENV=window.PLOTLYENV || {};window.PLOTLYENV.BASE_URL=\"https://plot.ly\";Plotly.newPlot(\"ab8f555a-3216-46ea-bc1d-117753359fc5\", [{\"marker\": {\"color\": \"rgba(200,0,0,.7)\"}, \"name\": \"Negative\", \"x\": [\"American\", \"Delta\", \"Southwest\", \"US Airways\", \"United\", \"Virgin America\"], \"y\": [1960, 955, 1186, 2263, 2633, 181], \"type\": \"bar\", \"uid\": \"4b75a38d-52d2-41d2-979c-85a25e8c69aa\"}, {\"marker\": {\"color\": \"rgba(150,150,150,.7)\"}, \"name\": \"Neutral\", \"x\": [\"American\", \"Delta\", \"Southwest\", \"US Airways\", \"United\", \"Virgin America\"], \"y\": [463, 723, 664, 381, 697, 171], \"type\": \"bar\", \"uid\": \"4de49ab0-2b1a-43a9-8702-ce5d1ef02845\"}, {\"marker\": {\"color\": \"rgba(0,200,0,.7)\"}, \"name\": \"Positive\", \"x\": [\"American\", \"Delta\", \"Southwest\", \"US Airways\", \"United\", \"Virgin America\"], \"y\": [336, 544, 570, 269, 492, 152], \"type\": \"bar\", \"uid\": \"d6f1c200-5242-47af-9d03-f3b23a868a86\"}], {\"barmode\": \"group\", \"title\": \"Airline Sentiment (Total Tweets)\", \"yaxis\": {\"title\": \"Number of tweets\"}}, {\"showLink\": true, \"linkText\": \"Export to plot.ly\"})});</script><script type=\"text/javascript\">window.addEventListener(\"resize\", function(){window._Plotly.Plots.resize(document.getElementById(\"ab8f555a-3216-46ea-bc1d-117753359fc5\"));});</script>"
      ]
     },
     "metadata": {},
     "output_type": "display_data"
    }
   ],
   "source": [
    "# Show distribution of texts\n",
    "\n",
    "trace1 = go.Bar(\n",
    "    x = sorted(tweets['airline'].unique()),\n",
    "    y = tweets[tweets['airline_sentiment'] == 'negative'].groupby('airline')['airline_sentiment'].value_counts(),\n",
    "    name = 'Negative',\n",
    "    marker = dict(color='rgba(200,0,0,.7)')\n",
    ")\n",
    "\n",
    "trace2 = go.Bar(\n",
    "    x = sorted(tweets['airline'].unique()),\n",
    "    y = tweets[tweets['airline_sentiment'] == 'neutral'].groupby('airline')['airline_sentiment'].value_counts(),\n",
    "    name = 'Neutral',\n",
    "    marker = dict(color='rgba(150,150,150,.7)')\n",
    ")\n",
    "\n",
    "trace3 = go.Bar(\n",
    "    x = sorted(tweets['airline'].unique()),\n",
    "    y = tweets[tweets['airline_sentiment'] == 'positive'].groupby('airline')['airline_sentiment'].value_counts(),\n",
    "    name = 'Positive',\n",
    "    marker = dict(color='rgba(0,200,0,.7)')\n",
    ")\n",
    "\n",
    "data = [trace1, trace2, trace3]\n",
    "layout = go.Layout(\n",
    "    title = 'Airline Sentiment (Total Tweets)',\n",
    "    barmode='group',\n",
    "    yaxis = dict(title='Number of tweets')\n",
    ")\n",
    "\n",
    "fig = go.Figure(data=data, layout=layout)\n",
    "py.offline.iplot(fig, filename='stacked-bar')"
   ]
  },
  {
   "cell_type": "markdown",
   "metadata": {},
   "source": [
    "<div class=\"alert alert-block alert-warning\">\n",
    "For the above visual, please hover over the bars to see the actual values, and feel free to toggle the sentiment categories on the right.\n",
    "</div>\n",
    "\n",
    "First impressions say a lot, and the one you might be getting with this chart is that there are a lot of tweets about American, US Airways, and United, and it doesn’t look very good. Granted, they are some of the largest airlines in the world, but it seems like people have just as much to say.\n",
    "\n",
    "### Class Imbalance\n",
    "\n",
    "Based on the number of total tweets above, we can see that certain airlines don't have the same presence as others, namely Virgin America, which is a much smaller airline than the others in our dataset. In order to fix this issue, I will be upsampling the data so that all of the airlines will have an equal number of tweets and look at the ratio of tweet sentiments rather than the absolute numbers."
   ]
  },
  {
   "cell_type": "code",
   "execution_count": 11,
   "metadata": {},
   "outputs": [
    {
     "data": {
      "text/plain": [
       "airline\n",
       "United            3822\n",
       "US Airways        2913\n",
       "American          2759\n",
       "Southwest         2420\n",
       "Delta             2222\n",
       "Virgin America     504\n",
       "dtype: int64"
      ]
     },
     "execution_count": 11,
     "metadata": {},
     "output_type": "execute_result"
    }
   ],
   "source": [
    "# Count # of tweets for each airline\n",
    "tweets.groupby(['airline']).size().sort_values(ascending = False)"
   ]
  },
  {
   "cell_type": "code",
   "execution_count": 12,
   "metadata": {},
   "outputs": [
    {
     "data": {
      "text/plain": [
       "airline_sentiment\n",
       "negative    9178\n",
       "neutral     3099\n",
       "positive    2363\n",
       "dtype: int64"
      ]
     },
     "execution_count": 12,
     "metadata": {},
     "output_type": "execute_result"
    }
   ],
   "source": [
    "tweets.groupby(['airline_sentiment']).size().sort_values(ascending = False)"
   ]
  },
  {
   "cell_type": "code",
   "execution_count": 13,
   "metadata": {},
   "outputs": [
    {
     "data": {
      "text/plain": [
       "airline_sentiment\n",
       "negative    9178\n",
       "neutral     9178\n",
       "positive    9178\n",
       "dtype: int64"
      ]
     },
     "execution_count": 13,
     "metadata": {},
     "output_type": "execute_result"
    }
   ],
   "source": [
    "# Create temporary dataframe for all sentiment values to upsample and concatenate\n",
    "tweets_negative = tweets[tweets.airline_sentiment=='negative']\n",
    "sample_size = len(tweets_negative)\n",
    "\n",
    "# Upsample the other outcomes\n",
    "tweets_neutral = resample(tweets[tweets.airline_sentiment=='neutral'], \n",
    "                            replace=True, n_samples=sample_size)\n",
    "tweets_positive = resample(tweets[tweets.airline_sentiment=='positive'], \n",
    "                            replace=True, n_samples=sample_size)\n",
    "\n",
    "# Concatenate the individual dataframes\n",
    "tweets = pd.concat([tweets_negative,\n",
    "                   tweets_neutral,\n",
    "                   tweets_positive])\n",
    "\n",
    "tweets = tweets.reset_index(drop=True)\n",
    "\n",
    "# Count # of tweets for each sentiment value to verify\n",
    "tweets.groupby(['airline_sentiment']).size()"
   ]
  },
  {
   "cell_type": "code",
   "execution_count": 14,
   "metadata": {},
   "outputs": [],
   "source": [
    "# # Create temporary dataframe for all airlines to upsample and concatenate\n",
    "# tweets_united = tweets[tweets.airline=='United']\n",
    "# sample_size = len(tweets[tweets['airline']=='United'])\n",
    "\n",
    "# # Upsample all other airlines\n",
    "# tweets_usairways = resample(tweets[tweets.airline=='US Airways'], \n",
    "#                             replace=True, n_samples=sample_size)\n",
    "# tweets_american = resample(tweets[tweets.airline=='American'], \n",
    "#                            replace=True, n_samples=sample_size)\n",
    "# tweets_southwest = resample(tweets[tweets.airline=='Southwest'], \n",
    "#                             replace=True, n_samples=sample_size)\n",
    "# tweets_delta = resample(tweets[tweets.airline=='Delta'], \n",
    "#                         replace=True, n_samples=sample_size)\n",
    "# tweets_virgin = resample(tweets[tweets.airline=='Virgin America'], \n",
    "#                          replace=True, n_samples=sample_size)\n",
    "\n",
    "# # Concatenate the individual dataframes\n",
    "# tweets = pd.concat([tweets_united, \n",
    "#                    tweets_usairways, \n",
    "#                    tweets_american, \n",
    "#                    tweets_southwest,\n",
    "#                    tweets_delta,\n",
    "#                    tweets_virgin])\n",
    "\n",
    "# tweets = tweets.reset_index(drop=True)\n",
    "\n",
    "# # Count # of tweets for each airline to verify\n",
    "# tweets.groupby(['airline']).size()"
   ]
  },
  {
   "cell_type": "code",
   "execution_count": 15,
   "metadata": {},
   "outputs": [
    {
     "data": {
      "application/vnd.plotly.v1+json": {
       "data": [
        {
         "marker": {
          "color": "rgba(200,0,0,.7)"
         },
         "name": "Negative",
         "type": "bar",
         "uid": "3ee651c1-fc42-402d-a8df-f7d41c47a220",
         "x": [
          "American",
          "Delta",
          "Southwest",
          "US Airways",
          "United",
          "Virgin America"
         ],
         "y": [
          0.42259594652867616,
          0.18267023718439174,
          0.22406952578877762,
          0.5106046931407943,
          0.39719414693015537,
          0.13774733637747336
         ]
        },
        {
         "marker": {
          "color": "rgba(150,150,150,.7)"
         },
         "name": "Neutral",
         "type": "bar",
         "uid": "824a5ed1-d2b5-42f5-8789-d067c3a7fe8d",
         "x": [
          "American",
          "Delta",
          "Southwest",
          "US Airways",
          "United",
          "Virgin America"
         ],
         "y": [
          0.30465717981888746,
          0.418133129303749,
          0.3582089552238806,
          0.2515794223826715,
          0.30788957610499323,
          0.4010654490106545
         ]
        },
        {
         "marker": {
          "color": "rgba(0,200,0,.7)"
         },
         "name": "Positive",
         "type": "bar",
         "uid": "d8370eda-17bd-4090-9d35-1a5c32ce8edd",
         "x": [
          "American",
          "Delta",
          "Southwest",
          "US Airways",
          "United",
          "Virgin America"
         ],
         "y": [
          0.2727468736524364,
          0.39919663351185924,
          0.4177215189873418,
          0.2378158844765343,
          0.2949162769648514,
          0.4611872146118721
         ]
        }
       ],
       "layout": {
        "barmode": "group",
        "title": "Airline Sentiment (Percentage)",
        "yaxis": {
         "title": "% of tweets"
        }
       }
      },
      "text/html": [
       "<div id=\"63c36732-0517-4691-8996-662dddbc2f49\" style=\"height: 525px; width: 100%;\" class=\"plotly-graph-div\"></div><script type=\"text/javascript\">require([\"plotly\"], function(Plotly) { window.PLOTLYENV=window.PLOTLYENV || {};window.PLOTLYENV.BASE_URL=\"https://plot.ly\";Plotly.newPlot(\"63c36732-0517-4691-8996-662dddbc2f49\", [{\"marker\": {\"color\": \"rgba(200,0,0,.7)\"}, \"name\": \"Negative\", \"x\": [\"American\", \"Delta\", \"Southwest\", \"US Airways\", \"United\", \"Virgin America\"], \"y\": [0.42259594652867616, 0.18267023718439174, 0.22406952578877762, 0.5106046931407943, 0.39719414693015537, 0.13774733637747336], \"type\": \"bar\", \"uid\": \"3ee651c1-fc42-402d-a8df-f7d41c47a220\"}, {\"marker\": {\"color\": \"rgba(150,150,150,.7)\"}, \"name\": \"Neutral\", \"x\": [\"American\", \"Delta\", \"Southwest\", \"US Airways\", \"United\", \"Virgin America\"], \"y\": [0.30465717981888746, 0.418133129303749, 0.3582089552238806, 0.2515794223826715, 0.30788957610499323, 0.4010654490106545], \"type\": \"bar\", \"uid\": \"824a5ed1-d2b5-42f5-8789-d067c3a7fe8d\"}, {\"marker\": {\"color\": \"rgba(0,200,0,.7)\"}, \"name\": \"Positive\", \"x\": [\"American\", \"Delta\", \"Southwest\", \"US Airways\", \"United\", \"Virgin America\"], \"y\": [0.2727468736524364, 0.39919663351185924, 0.4177215189873418, 0.2378158844765343, 0.2949162769648514, 0.4611872146118721], \"type\": \"bar\", \"uid\": \"d8370eda-17bd-4090-9d35-1a5c32ce8edd\"}], {\"barmode\": \"group\", \"title\": \"Airline Sentiment (Percentage)\", \"yaxis\": {\"title\": \"% of tweets\"}}, {\"showLink\": true, \"linkText\": \"Export to plot.ly\"})});</script><script type=\"text/javascript\">window.addEventListener(\"resize\", function(){window._Plotly.Plots.resize(document.getElementById(\"63c36732-0517-4691-8996-662dddbc2f49\"));});</script>"
      ],
      "text/vnd.plotly.v1+html": [
       "<div id=\"63c36732-0517-4691-8996-662dddbc2f49\" style=\"height: 525px; width: 100%;\" class=\"plotly-graph-div\"></div><script type=\"text/javascript\">require([\"plotly\"], function(Plotly) { window.PLOTLYENV=window.PLOTLYENV || {};window.PLOTLYENV.BASE_URL=\"https://plot.ly\";Plotly.newPlot(\"63c36732-0517-4691-8996-662dddbc2f49\", [{\"marker\": {\"color\": \"rgba(200,0,0,.7)\"}, \"name\": \"Negative\", \"x\": [\"American\", \"Delta\", \"Southwest\", \"US Airways\", \"United\", \"Virgin America\"], \"y\": [0.42259594652867616, 0.18267023718439174, 0.22406952578877762, 0.5106046931407943, 0.39719414693015537, 0.13774733637747336], \"type\": \"bar\", \"uid\": \"3ee651c1-fc42-402d-a8df-f7d41c47a220\"}, {\"marker\": {\"color\": \"rgba(150,150,150,.7)\"}, \"name\": \"Neutral\", \"x\": [\"American\", \"Delta\", \"Southwest\", \"US Airways\", \"United\", \"Virgin America\"], \"y\": [0.30465717981888746, 0.418133129303749, 0.3582089552238806, 0.2515794223826715, 0.30788957610499323, 0.4010654490106545], \"type\": \"bar\", \"uid\": \"824a5ed1-d2b5-42f5-8789-d067c3a7fe8d\"}, {\"marker\": {\"color\": \"rgba(0,200,0,.7)\"}, \"name\": \"Positive\", \"x\": [\"American\", \"Delta\", \"Southwest\", \"US Airways\", \"United\", \"Virgin America\"], \"y\": [0.2727468736524364, 0.39919663351185924, 0.4177215189873418, 0.2378158844765343, 0.2949162769648514, 0.4611872146118721], \"type\": \"bar\", \"uid\": \"d8370eda-17bd-4090-9d35-1a5c32ce8edd\"}], {\"barmode\": \"group\", \"title\": \"Airline Sentiment (Percentage)\", \"yaxis\": {\"title\": \"% of tweets\"}}, {\"showLink\": true, \"linkText\": \"Export to plot.ly\"})});</script><script type=\"text/javascript\">window.addEventListener(\"resize\", function(){window._Plotly.Plots.resize(document.getElementById(\"63c36732-0517-4691-8996-662dddbc2f49\"));});</script>"
      ]
     },
     "metadata": {},
     "output_type": "display_data"
    }
   ],
   "source": [
    "# Show distribution of texts\n",
    "\n",
    "trace1 = go.Bar(\n",
    "    x = sorted(tweets['airline'].unique()),\n",
    "    y = (tweets[tweets['airline_sentiment'] == 'negative'].groupby('airline')['airline_sentiment'].value_counts().values) / (tweets['airline'].value_counts().sort_index().values),\n",
    "    name = 'Negative',\n",
    "    marker = dict(color='rgba(200,0,0,.7)')\n",
    ")\n",
    "\n",
    "trace2 = go.Bar(\n",
    "    x = sorted(tweets['airline'].unique()),\n",
    "    y = (tweets[tweets['airline_sentiment'] == 'neutral'].groupby('airline')['airline_sentiment'].value_counts().values) / (tweets['airline'].value_counts().sort_index().values),\n",
    "    name = 'Neutral',\n",
    "    marker = dict(color='rgba(150,150,150,.7)')\n",
    ")\n",
    "\n",
    "trace3 = go.Bar(\n",
    "    x = sorted(tweets['airline'].unique()),\n",
    "    y = (tweets[tweets['airline_sentiment'] == 'positive'].groupby('airline')['airline_sentiment'].value_counts().values) / (tweets['airline'].value_counts().sort_index().values),\n",
    "    name = 'Positive',\n",
    "    marker = dict(color='rgba(0,200,0,.7)')\n",
    ")\n",
    "\n",
    "data = [trace1, trace2, trace3]\n",
    "layout = go.Layout(\n",
    "    title = 'Airline Sentiment (Percentage)',\n",
    "    barmode='group',\n",
    "    yaxis = dict(title='% of tweets')\n",
    ")\n",
    "\n",
    "fig = go.Figure(data=data, layout=layout)\n",
    "py.offline.iplot(fig, filename='stacked-bar')"
   ]
  },
  {
   "cell_type": "markdown",
   "metadata": {},
   "source": [
    "<div class=\"alert alert-block alert-warning\">\n",
    "For the above visual, please feel free to toggle the sentiment categories on the right.\n",
    "</div>\n",
    "\n",
    "After balancing the number of tweets for each airline, we can get a better idea of what people think about their choice of airline. Virgin America seems to fare the best with an almost equal number of positive and negative tweets, followed by Delta and Southwest. \n",
    "\n",
    "## Text Cleaning\n",
    "\n",
    "There’s only so much that you can fit into 140 characters or less (the training set is from 2014, before Twitter updated their character limit), and it’s not as if most of these tweets have as much post-processing put into them as an academic essay, so there are going to be quite a few components that need to be cleaned up before modelling. To keep it short, this is the process for how what needs to happen first\n",
    "\n",
    "* Remove special characters\n",
    "* Remove excess spaces\n",
    "* Remove stopwords like ‘like’, ‘the’ ‘and’ \n",
    "* Reduce words to their lemmas (base forms)"
   ]
  },
  {
   "cell_type": "code",
   "execution_count": 16,
   "metadata": {},
   "outputs": [],
   "source": [
    "def text_cleaner(text):\n",
    "    # Visual inspection identifies a form of punctuation spaCy does not\n",
    "    text = re.sub(r'\\n',' ',text)\n",
    "    text = re.sub(r'\\t',' ',text)\n",
    "    text = re.sub(r'--',' ',text)\n",
    "    text = re.sub(\"[\\[].*?[\\]]\", \"\", text)\n",
    "    text = ' '.join(text.split())\n",
    "    return text"
   ]
  },
  {
   "cell_type": "code",
   "execution_count": 17,
   "metadata": {},
   "outputs": [
    {
     "data": {
      "text/plain": [
       "0              @VirginAmerica it's really aggressive to blast obnoxious \"entertainment\" in your guests' faces &amp; they have little recourse\n",
       "1                                                                                     @VirginAmerica and it's a really big bad thing about it\n",
       "2     @VirginAmerica seriously would pay $30 a flight for seats that didn't have this playing. it's really the only bad thing about flying VA\n",
       "3                                                                                               @VirginAmerica SFO-PDX schedule is still MIA.\n",
       "4    @VirginAmerica I flew from NYC to SFO last week and couldn't fully sit in my seat due to two large gentleman on either side of me. HELP!\n",
       "Name: text, dtype: object"
      ]
     },
     "execution_count": 17,
     "metadata": {},
     "output_type": "execute_result"
    }
   ],
   "source": [
    "# Remove non-essential punctuation from the tweets\n",
    "pd.options.display.max_colwidth = 200\n",
    "tweets['text'] = tweets['text'].map(lambda x: text_cleaner(str(x)))\n",
    "tweets['text'].head()"
   ]
  },
  {
   "cell_type": "code",
   "execution_count": 18,
   "metadata": {},
   "outputs": [],
   "source": [
    "# Reduce all text to their lemmas\n",
    "lemmatizer = WordNetLemmatizer()\n",
    "\n",
    "for tweet in tweets['text']:\n",
    "    tweet = lemmatizer.lemmatize(tweet)"
   ]
  },
  {
   "cell_type": "markdown",
   "metadata": {},
   "source": [
    "Now, the last part before modelling, converting the sentiment from text to numbers. Computers don’t really like working with characters, so we have to remap these values before continuing."
   ]
  },
  {
   "cell_type": "code",
   "execution_count": 19,
   "metadata": {},
   "outputs": [],
   "source": [
    "# Modify values of sentiment to numerical values\n",
    "sentiment = {'negative': -1, 'neutral': 0, 'positive': 1}\n",
    "tweets['airline_sentiment'] = tweets['airline_sentiment'].map(lambda x: sentiment[x])"
   ]
  },
  {
   "cell_type": "markdown",
   "metadata": {},
   "source": [
    "# Natural Lanuage Processing\n",
    "\n",
    "Now that we’ve reached the end of the course, it’s time to pull out all the stops for natural language processing. We’ll be trying out a few methods and combine them to generate the most useful factors for sentiment analysis prediction. We’ll try a few simpler methods like extracting the types of words used in each tweet using spacy, looking at the characteristics of each tweet, and finally extracting the most useful words in the dataset using tf-idf vectorization."
   ]
  },
  {
   "cell_type": "code",
   "execution_count": 20,
   "metadata": {},
   "outputs": [],
   "source": [
    "# Identify our predictor (tweets) and outcome (sentiment) variable\n",
    "X = tweets['text']\n",
    "y = tweets['airline_sentiment']\n",
    "\n",
    "# Instantiating spaCy\n",
    "nlp = spacy.load('en')\n",
    "X_words = []\n",
    "\n",
    "# Create list of dataframes that we'll combine later\n",
    "nlp_methods = []"
   ]
  },
  {
   "cell_type": "code",
   "execution_count": 21,
   "metadata": {},
   "outputs": [],
   "source": [
    "# Count parts of speech\n",
    "\n",
    "for row in X:\n",
    "    row_doc = nlp(row)          # Processing each row for tokens\n",
    "    sent_len = len(row_doc)     # Calculating length of each sentence\n",
    "\n",
    "    advs = 0                    # Initializing counts of different parts of speech\n",
    "    verb = 0\n",
    "    noun = 0\n",
    "    adj = 0\n",
    "    \n",
    "    for token in row_doc:\n",
    "        # Identifying each part of speech and adding to counts\n",
    "        if token.pos_ == 'ADV':\n",
    "            advs +=1\n",
    "        elif token.pos_ == 'VERB':\n",
    "            verb +=1\n",
    "        elif token.pos_ == 'NOUN':\n",
    "            noun +=1\n",
    "        elif token.pos_ == 'ADJ':\n",
    "            adj +=1\n",
    "    # Creating a list of all features for each sentence\n",
    "    X_words.append([row_doc, advs, verb, noun, adj, sent_len])\n",
    "\n",
    "# Create dataframe with count of adverbs, verbs, nouns, and adjectives\n",
    "X_count = pd.DataFrame(data=X_words, columns=['BOW', 'ADV', 'VERB', 'NOUN', 'ADJ', 'sent_length'])\n",
    "\n",
    "# Change token count to token percentage\n",
    "for column in X_count.columns[1:5]:\n",
    "    X_count[column] = X_count[column] / X_count['sent_length']\n",
    "\n",
    "# Normalize X_count\n",
    "X_counter = normalize(X_count.drop('BOW',axis=1))\n",
    "X_counter  = pd.DataFrame(data=X_counter)\n",
    "\n",
    "nlp_methods.append(X_counter)"
   ]
  },
  {
   "cell_type": "code",
   "execution_count": 22,
   "metadata": {},
   "outputs": [],
   "source": [
    "# Track tweet composition\n",
    "\n",
    "# Create new dataframe to track tweet characteristics\n",
    "tweet_characteristics = pd.DataFrame()\n",
    "\n",
    "# Track characteristics of each tweet\n",
    "tweet_characteristics['word_count'] = tweets['text'].apply(lambda x: len(str(x).split(\" \")))\n",
    "tweet_characteristics['char_count'] = tweets['text'].str.len()\n",
    "tweet_characteristics['stop_count'] = tweets['text'].apply(lambda x: len([x for x in x.split() if x in stopwords.words('english')]))\n",
    "tweet_characteristics['special_count'] = tweets['text'].apply(lambda x: len([x for x in x.split() if x.startswith('#')]))\n",
    "\n",
    "# Preview the tweet characteristics\n",
    "tweet_characteristics.head()\n",
    "\n",
    "nlp_methods.append(pd.DataFrame(normalize(tweet_characteristics)))"
   ]
  },
  {
   "cell_type": "markdown",
   "metadata": {},
   "source": [
    "### Tf-idf Vectorization\n",
    "The first types of features that we are going to add are the most useful words in our dataset. Now how are we going to determine which words are deemed the most \"useful\"? With TF-IDF vectorizer, of course.\n",
    "\n",
    "TF tracks the term frequency, or how often each word appears in all articles of text, while idf (or Inverse Document Frequency) is a value that places less weight on variables that occur too often and lose their predictive power. Put together, it's a tool that allows us to assign an 'importance' value to each word in the entire dataset based on frequency in each row and throughout the database."
   ]
  },
  {
   "cell_type": "code",
   "execution_count": 23,
   "metadata": {},
   "outputs": [],
   "source": [
    "# Parameters for TF-idf vectorizer\n",
    "vectorizer = TfidfVectorizer(max_df=0.5,            # Throw out words that occur in over half of tweets\n",
    "                             min_df=3,              # Words need to apper at least 3 times to count\n",
    "                             max_features=10000,       \n",
    "                             stop_words='english',  # Ignore stop words\n",
    "                             lowercase=True,        # Ignore case\n",
    "                             use_idf=True,          # Penalize frequent words\n",
    "                             norm=u'l2',\n",
    "                             smooth_idf=True,       # Add 1 to df in case we have to divide by 0\n",
    "                             ngram_range=(1,3)      # Look at single words, or up to 3 words\n",
    "                            )\n",
    "\n",
    "#Applying the vectorizer\n",
    "X_tfidf=vectorizer.fit_transform(X)\n",
    "\n",
    "#splitting into training and test sets\n",
    "X_train_tfidf, X_test_tfidf, y_train_tfidf, y_test_tfidf = train_test_split(X_tfidf, y, test_size=0.25, random_state=42)\n",
    "\n",
    "#Removes all zeros from the matrix\n",
    "X_train_tfidf_csr = X_train_tfidf.tocsr()\n",
    "\n",
    "#number of paragraphs\n",
    "n = X_train_tfidf_csr.shape[0]\n",
    "\n",
    "#A list of dictionaries, one per paragraph\n",
    "tfidf_bypara = [{} for _ in range(0,n)]\n",
    "\n",
    "#List of features\n",
    "terms = vectorizer.get_feature_names()\n",
    "\n",
    "#for each paragraph, lists the feature words and their tf-idf scores\n",
    "for i, j in zip(*X_train_tfidf_csr.nonzero()):\n",
    "    tfidf_bypara[i][terms[j]] = X_train_tfidf_csr[i, j]\n",
    "\n",
    "# Normalize the dataset    \n",
    "X_norm = normalize(X_train_tfidf)\n",
    "\n",
    "# Convert from tf-idf matrix to dataframe\n",
    "X_normal  = pd.DataFrame(data=X_norm.toarray())\n",
    "\n",
    "# Append tf-idf vectorizer to our list of nlp methods\n",
    "nlp_methods.append(X_normal)"
   ]
  },
  {
   "cell_type": "code",
   "execution_count": 24,
   "metadata": {},
   "outputs": [],
   "source": [
    "## Creating tf-idf matrix\n",
    "synopsis_tfidf = vectorizer.fit_transform(tweets['text'])\n",
    "\n",
    "# Getting the word list.\n",
    "terms = vectorizer.get_feature_names()\n",
    "\n",
    "# Linking words to topics\n",
    "def word_topic(tfidf,solution, wordlist):\n",
    "    \n",
    "    # Loading scores for each word on each topic/component.\n",
    "    words_by_topic=tfidf.T * solution\n",
    "\n",
    "    # Linking the loadings to the words in an easy-to-read way.\n",
    "    components=pd.DataFrame(words_by_topic,index=wordlist)\n",
    "    \n",
    "    return components\n",
    "\n",
    "# Extracts the top N words and their loadings for each topic.\n",
    "def top_words(components, n_top_words):\n",
    "    n_topics = range(components.shape[1])\n",
    "    index= np.repeat(n_topics, n_top_words, axis=0)\n",
    "    topwords=pd.Series(index=index)\n",
    "    for column in range(components.shape[1]):\n",
    "        # Sort the column so that highest loadings are at the top.\n",
    "        sortedwords=components.iloc[:,column].sort_values(ascending=False)\n",
    "        # Choose the N highest loadings.\n",
    "        chosen=sortedwords[:n_top_words]\n",
    "        # Combine loading and index into a string.\n",
    "        chosenlist=chosen.index +\" \"+round(chosen,2).map(str) \n",
    "        topwords.loc[column]=chosenlist\n",
    "    return(topwords)\n",
    "\n",
    "# Number of words to look at for each topic.\n",
    "n_top_words = 200\n",
    "\n",
    "# Number of possible outcomes (3 = positive, neutral, negative)\n",
    "ntopics = tweets['airline_sentiment'].nunique()"
   ]
  },
  {
   "cell_type": "code",
   "execution_count": 25,
   "metadata": {},
   "outputs": [],
   "source": [
    "# Parameters for LSA\n",
    "svd= TruncatedSVD(ntopics)\n",
    "lsa = make_pipeline(svd, Normalizer(copy=False))\n",
    "\n",
    "# Time and run LSA model\n",
    "start_time = timeit.default_timer()\n",
    "synopsis_lsa = lsa.fit_transform(synopsis_tfidf)\n",
    "elapsed_lsa = timeit.default_timer() - start_time\n",
    "\n",
    "# Extract most common words for LSA\n",
    "components_lsa = word_topic(synopsis_tfidf, synopsis_lsa, terms)\n",
    "topwords=pd.DataFrame()\n",
    "topwords['LSA']=top_words(components_lsa, n_top_words)"
   ]
  },
  {
   "cell_type": "code",
   "execution_count": 26,
   "metadata": {},
   "outputs": [],
   "source": [
    "# Parameters for NNMF\n",
    "nmf = NMF(alpha=0.0, \n",
    "          init='nndsvdar', # how starting value are calculated\n",
    "          l1_ratio=0.0, # Sets whether regularization is L2 (0), L1 (1), or a combination (values between 0 and 1)\n",
    "          max_iter=200, # when to stop even if the model is not converging (to prevent running forever)\n",
    "          n_components=ntopics, \n",
    "          random_state=0, \n",
    "          solver='cd', # Use Coordinate Descent to solve\n",
    "          tol=0.0001, # model will stop if tfidf-WH <= tol\n",
    "          verbose=0 # amount of output to give while iterating\n",
    "         )\n",
    "\n",
    "# Time and run NNMF model\n",
    "start_time = timeit.default_timer()\n",
    "synopsis_nmf = nmf.fit_transform(synopsis_tfidf)\n",
    "elapsed_nmf = timeit.default_timer() - start_time\n",
    "\n",
    "# Extract most common words for NNMF\n",
    "components_nmf = word_topic(synopsis_tfidf, synopsis_nmf, terms)\n",
    "topwords['NNMF']=top_words(components_nmf, n_top_words)"
   ]
  },
  {
   "cell_type": "code",
   "execution_count": 27,
   "metadata": {},
   "outputs": [
    {
     "name": "stdout",
     "output_type": "stream",
     "text": [
      "Top positive words: \n",
      "\n",
      "                    LSA                     NNMF\n",
      "0       jetblue 769.15             united 27.52\n",
      "0        united 704.25             thanks 23.75\n",
      "0  southwestair 588.79        americanair 21.68\n",
      "0        flight 547.06             flight 19.55\n",
      "0     usairways 495.72          usairways 16.07\n",
      "0   americanair 464.36             jetblue 8.97\n",
      "0        thanks 407.62       united thanks 8.88\n",
      "0          http 392.65  americanair thanks 7.83\n",
      "0         thank 272.98           cancelled 6.63\n",
      "0          just 244.61        southwestair 6.42 \n",
      "\n",
      "\n",
      "Top neutral words: \n",
      "\n",
      "                          LSA                       NNMF\n",
      "1              jetblue 228.2              jetblue 37.24\n",
      "1               fleek 102.35                fleek 27.91\n",
      "1                 fleet 98.6          fleet fleek 27.18\n",
      "1          fleet fleek 98.05  jetblue fleet fleek 27.16\n",
      "1        jetblue fleet 97.71        jetblue fleet 27.16\n",
      "1  jetblue fleet fleek 97.71                fleet 27.14\n",
      "1           fleek http 96.44     fleet fleek http 26.89\n",
      "1     fleet fleek http 96.44           fleek http 26.89\n",
      "1                 http 84.74                 http 24.59\n",
      "1           rt jetblue 35.96            rt jetblue 9.27 \n",
      "\n",
      "\n",
      "Top negative words: \n",
      "\n",
      "                          LSA                     NNMF\n",
      "2               thank 360.98              thank 50.48\n",
      "2        southwestair 208.62       southwestair 35.12\n",
      "2        united thank 103.07       united thank 16.69\n",
      "2              jetblue 97.86  southwestair thank 15.0\n",
      "2        jetblue thank 90.69      jetblue thank 14.03\n",
      "2   southwestair thank 79.83            jetblue 13.22\n",
      "2      usairways thank 61.47               united 9.5\n",
      "2    americanair thank 49.51      usairways thank 8.3\n",
      "2   destinationdragons 28.83   americanair thank 8.28\n",
      "2  virginamerica thank 15.32           usairways 5.39\n"
     ]
    }
   ],
   "source": [
    "# View top words identified by LSA and NNMF\n",
    "print('Top positive words: \\n\\n', topwords[:10], '\\n\\n')\n",
    "print('Top neutral words: \\n\\n', topwords[200:210], '\\n\\n')\n",
    "print('Top negative words: \\n\\n', topwords[400:410])"
   ]
  },
  {
   "cell_type": "code",
   "execution_count": 28,
   "metadata": {},
   "outputs": [
    {
     "data": {
      "text/html": [
       "<div>\n",
       "<style scoped>\n",
       "    .dataframe tbody tr th:only-of-type {\n",
       "        vertical-align: middle;\n",
       "    }\n",
       "\n",
       "    .dataframe tbody tr th {\n",
       "        vertical-align: top;\n",
       "    }\n",
       "\n",
       "    .dataframe thead th {\n",
       "        text-align: right;\n",
       "    }\n",
       "</style>\n",
       "<table border=\"1\" class=\"dataframe\">\n",
       "  <thead>\n",
       "    <tr style=\"text-align: right;\">\n",
       "      <th></th>\n",
       "      <th>0</th>\n",
       "      <th>1</th>\n",
       "      <th>2</th>\n",
       "      <th>3</th>\n",
       "      <th>4</th>\n",
       "      <th>0</th>\n",
       "      <th>1</th>\n",
       "      <th>2</th>\n",
       "      <th>3</th>\n",
       "      <th>0</th>\n",
       "      <th>...</th>\n",
       "      <th>9990</th>\n",
       "      <th>9991</th>\n",
       "      <th>9992</th>\n",
       "      <th>9993</th>\n",
       "      <th>9994</th>\n",
       "      <th>9995</th>\n",
       "      <th>9996</th>\n",
       "      <th>9997</th>\n",
       "      <th>9998</th>\n",
       "      <th>9999</th>\n",
       "    </tr>\n",
       "  </thead>\n",
       "  <tbody>\n",
       "    <tr>\n",
       "      <th>0</th>\n",
       "      <td>0.001890</td>\n",
       "      <td>0.005671</td>\n",
       "      <td>0.009451</td>\n",
       "      <td>0.007561</td>\n",
       "      <td>0.999909</td>\n",
       "      <td>0.133560</td>\n",
       "      <td>0.989919</td>\n",
       "      <td>0.047139</td>\n",
       "      <td>0.0</td>\n",
       "      <td>0.0</td>\n",
       "      <td>...</td>\n",
       "      <td>0.0</td>\n",
       "      <td>0.0</td>\n",
       "      <td>0.0</td>\n",
       "      <td>0.0</td>\n",
       "      <td>0.0</td>\n",
       "      <td>0.0</td>\n",
       "      <td>0.0</td>\n",
       "      <td>0.0</td>\n",
       "      <td>0.0</td>\n",
       "      <td>0.0</td>\n",
       "    </tr>\n",
       "    <tr>\n",
       "      <th>1</th>\n",
       "      <td>0.008262</td>\n",
       "      <td>0.008262</td>\n",
       "      <td>0.008262</td>\n",
       "      <td>0.016525</td>\n",
       "      <td>0.999761</td>\n",
       "      <td>0.178174</td>\n",
       "      <td>0.979958</td>\n",
       "      <td>0.089087</td>\n",
       "      <td>0.0</td>\n",
       "      <td>0.0</td>\n",
       "      <td>...</td>\n",
       "      <td>0.0</td>\n",
       "      <td>0.0</td>\n",
       "      <td>0.0</td>\n",
       "      <td>0.0</td>\n",
       "      <td>0.0</td>\n",
       "      <td>0.0</td>\n",
       "      <td>0.0</td>\n",
       "      <td>0.0</td>\n",
       "      <td>0.0</td>\n",
       "      <td>0.0</td>\n",
       "    </tr>\n",
       "    <tr>\n",
       "      <th>2</th>\n",
       "      <td>0.004115</td>\n",
       "      <td>0.008230</td>\n",
       "      <td>0.005487</td>\n",
       "      <td>0.004115</td>\n",
       "      <td>0.999934</td>\n",
       "      <td>0.167504</td>\n",
       "      <td>0.983178</td>\n",
       "      <td>0.072828</td>\n",
       "      <td>0.0</td>\n",
       "      <td>0.0</td>\n",
       "      <td>...</td>\n",
       "      <td>0.0</td>\n",
       "      <td>0.0</td>\n",
       "      <td>0.0</td>\n",
       "      <td>0.0</td>\n",
       "      <td>0.0</td>\n",
       "      <td>0.0</td>\n",
       "      <td>0.0</td>\n",
       "      <td>0.0</td>\n",
       "      <td>0.0</td>\n",
       "      <td>0.0</td>\n",
       "    </tr>\n",
       "    <tr>\n",
       "      <th>3</th>\n",
       "      <td>0.012343</td>\n",
       "      <td>0.012343</td>\n",
       "      <td>0.012343</td>\n",
       "      <td>0.000000</td>\n",
       "      <td>0.999771</td>\n",
       "      <td>0.132132</td>\n",
       "      <td>0.990988</td>\n",
       "      <td>0.022022</td>\n",
       "      <td>0.0</td>\n",
       "      <td>0.0</td>\n",
       "      <td>...</td>\n",
       "      <td>0.0</td>\n",
       "      <td>0.0</td>\n",
       "      <td>0.0</td>\n",
       "      <td>0.0</td>\n",
       "      <td>0.0</td>\n",
       "      <td>0.0</td>\n",
       "      <td>0.0</td>\n",
       "      <td>0.0</td>\n",
       "      <td>0.0</td>\n",
       "      <td>0.0</td>\n",
       "    </tr>\n",
       "    <tr>\n",
       "      <th>4</th>\n",
       "      <td>0.002222</td>\n",
       "      <td>0.003333</td>\n",
       "      <td>0.004444</td>\n",
       "      <td>0.003333</td>\n",
       "      <td>0.999977</td>\n",
       "      <td>0.194320</td>\n",
       "      <td>0.978797</td>\n",
       "      <td>0.064773</td>\n",
       "      <td>0.0</td>\n",
       "      <td>0.0</td>\n",
       "      <td>...</td>\n",
       "      <td>0.0</td>\n",
       "      <td>0.0</td>\n",
       "      <td>0.0</td>\n",
       "      <td>0.0</td>\n",
       "      <td>0.0</td>\n",
       "      <td>0.0</td>\n",
       "      <td>0.0</td>\n",
       "      <td>0.0</td>\n",
       "      <td>0.0</td>\n",
       "      <td>0.0</td>\n",
       "    </tr>\n",
       "  </tbody>\n",
       "</table>\n",
       "<p>5 rows × 10009 columns</p>\n",
       "</div>"
      ],
      "text/plain": [
       "       0         1         2         3         4         0         1     \\\n",
       "0  0.001890  0.005671  0.009451  0.007561  0.999909  0.133560  0.989919   \n",
       "1  0.008262  0.008262  0.008262  0.016525  0.999761  0.178174  0.979958   \n",
       "2  0.004115  0.008230  0.005487  0.004115  0.999934  0.167504  0.983178   \n",
       "3  0.012343  0.012343  0.012343  0.000000  0.999771  0.132132  0.990988   \n",
       "4  0.002222  0.003333  0.004444  0.003333  0.999977  0.194320  0.978797   \n",
       "\n",
       "       2     3     0     ...   9990  9991  9992  9993  9994  9995  9996  9997  \\\n",
       "0  0.047139   0.0   0.0  ...    0.0   0.0   0.0   0.0   0.0   0.0   0.0   0.0   \n",
       "1  0.089087   0.0   0.0  ...    0.0   0.0   0.0   0.0   0.0   0.0   0.0   0.0   \n",
       "2  0.072828   0.0   0.0  ...    0.0   0.0   0.0   0.0   0.0   0.0   0.0   0.0   \n",
       "3  0.022022   0.0   0.0  ...    0.0   0.0   0.0   0.0   0.0   0.0   0.0   0.0   \n",
       "4  0.064773   0.0   0.0  ...    0.0   0.0   0.0   0.0   0.0   0.0   0.0   0.0   \n",
       "\n",
       "   9998  9999  \n",
       "0   0.0   0.0  \n",
       "1   0.0   0.0  \n",
       "2   0.0   0.0  \n",
       "3   0.0   0.0  \n",
       "4   0.0   0.0  \n",
       "\n",
       "[5 rows x 10009 columns]"
      ]
     },
     "execution_count": 28,
     "metadata": {},
     "output_type": "execute_result"
    }
   ],
   "source": [
    "# Create final training dataset\n",
    "X_train = pd.concat(nlp_methods, axis=1)\n",
    "\n",
    "# Review the data that we are placing into our models\n",
    "X_train.head()"
   ]
  },
  {
   "cell_type": "code",
   "execution_count": 29,
   "metadata": {},
   "outputs": [
    {
     "data": {
      "image/png": "[encoded data removed]",
      "text/plain": [
       "<Figure size 864x864 with 1 Axes>"
      ]
     },
     "metadata": {
      "needs_background": "light"
     },
     "output_type": "display_data"
    }
   ],
   "source": [
    "# Generates a wordcloud of the most common words in negative tweets\n",
    "df=tweets[tweets['airline_sentiment']==-1]\n",
    "words = ' '.join(df['text'])\n",
    "cleaned_word = \" \".join([word for word in words.split()\n",
    "                            if 'http' not in word\n",
    "                                and not word.startswith('@')\n",
    "                                and word != 'RT'\n",
    "                            ])\n",
    "\n",
    "wordcloud = WordCloud(stopwords=STOPWORDS,\n",
    "                      background_color='black',\n",
    "                      max_words = 100\n",
    "                     ).generate(cleaned_word)\n",
    "\n",
    "plt.figure(1,figsize=(12, 12))\n",
    "plt.imshow(wordcloud)\n",
    "plt.axis('off')\n",
    "plt.show()"
   ]
  },
  {
   "cell_type": "markdown",
   "metadata": {},
   "source": [
    "# Modelling Phase\n",
    "\n",
    "So, the tweets have been parsed and prepared for our models. We're trying to determine if it's possible to predict sentiment (a binary variable) so that means that we will require some classification models. As for which models to test, we will be using \n",
    "* Logistic Regression\n",
    "* Random Forest Ensemble\n",
    "* Gradient Boosting Ensemble\n",
    "* Neural Networks\n",
    "\n",
    "These four models differ fundamentally in how they operate, and range from least to most complex, meaning that logistic regression will almost always take the least amount of time, but the latter three will likely be more accurate."
   ]
  },
  {
   "cell_type": "code",
   "execution_count": 30,
   "metadata": {},
   "outputs": [],
   "source": [
    "# Create dataframe to track runtime and scores\n",
    "models = ['Logistic regression' , 'Random forest', 'Gradient Boosting', 'Neural Networks']\n",
    "runtime = []\n",
    "train_score = []\n",
    "test_score = []"
   ]
  },
  {
   "cell_type": "code",
   "execution_count": 31,
   "metadata": {},
   "outputs": [],
   "source": [
    "def run_model(model):\n",
    "    \n",
    "    # Train the model\n",
    "    train_set = cross_val_score(model, X_train_tfidf, y_train_tfidf, cv=5, n_jobs=-1)\n",
    "    \n",
    "    # Test and time the model\n",
    "    start_time = timeit.default_timer()\n",
    "    test_set = cross_val_score(model, X_test_tfidf, y_test_tfidf, cv=5, n_jobs=-1)\n",
    "    elapsed_time = timeit.default_timer() - start_time\n",
    "    \n",
    "    # Append the scores and runtime to our dataframe\n",
    "    train_score.append(train_set.mean())\n",
    "    test_score.append(test_set.mean())\n",
    "    runtime.append(elapsed_time)\n",
    "    \n",
    "    # Fit the model to the data\n",
    "    model.fit(X_train_tfidf, y_train_tfidf)\n",
    "    \n",
    "    # Store the predicted values in a dataframe\n",
    "    y_pred = model.predict(X_test_tfidf)\n",
    "    \n",
    "    # Print scores and runtime\n",
    "    print(str(model), '\\n\\nTrain score: {:.5f}(+/- {:.2f})\\n'.format(train_set.mean(), train_set.std()*2))\n",
    "    print('Test score: {:.5f}(+/- {:.2f})\\n'.format(test_set.mean(), test_set.std()*2))\n",
    "    print('Runtime:', elapsed_time, 'seconds\\n')\n",
    "    \n",
    "    # Generate and print the confusion matrix\n",
    "    print('Confusion matrix:\\n\\n', confusion_matrix(y_test_tfidf, y_pred))\n",
    "    \n",
    "    # Print the model's statisitcs\n",
    "    print('\\nClassification Report:\\n\\n' + classification_report(y_test_tfidf, y_pred))"
   ]
  },
  {
   "cell_type": "code",
   "execution_count": 32,
   "metadata": {},
   "outputs": [
    {
     "name": "stdout",
     "output_type": "stream",
     "text": [
      "LogisticRegression(C=1.0, class_weight=None, dual=False, fit_intercept=True,\n",
      "          intercept_scaling=1, max_iter=100, multi_class='ovr', n_jobs=1,\n",
      "          penalty='l2', random_state=None, solver='liblinear', tol=0.0001,\n",
      "          verbose=0, warm_start=False) \n",
      "\n",
      "Train score: 0.83801(+/- 0.01)\n",
      "\n",
      "Test score: 0.78588(+/- 0.02)\n",
      "\n",
      "Runtime: 9.803378171000077 seconds\n",
      "\n",
      "Confusion matrix:\n",
      "\n",
      " [[1877  317  120]\n",
      " [ 246 1887  148]\n",
      " [  84  128 2077]]\n",
      "\n",
      "Classification Report:\n",
      "\n",
      "             precision    recall  f1-score   support\n",
      "\n",
      "         -1       0.85      0.81      0.83      2314\n",
      "          0       0.81      0.83      0.82      2281\n",
      "          1       0.89      0.91      0.90      2289\n",
      "\n",
      "avg / total       0.85      0.85      0.85      6884\n",
      "\n"
     ]
    }
   ],
   "source": [
    "# Logistic regression model\n",
    "lr = LogisticRegression()\n",
    "run_model(lr)"
   ]
  },
  {
   "cell_type": "code",
   "execution_count": 33,
   "metadata": {},
   "outputs": [
    {
     "name": "stdout",
     "output_type": "stream",
     "text": [
      "RandomForestClassifier(bootstrap=True, class_weight='balanced',\n",
      "            criterion='gini', max_depth=None, max_features='auto',\n",
      "            max_leaf_nodes=None, min_impurity_decrease=0.0,\n",
      "            min_impurity_split=None, min_samples_leaf=1,\n",
      "            min_samples_split=2, min_weight_fraction_leaf=0.0,\n",
      "            n_estimators=60, n_jobs=1, oob_score=False, random_state=None,\n",
      "            verbose=0, warm_start=False) \n",
      "\n",
      "Train score: 0.90509(+/- 0.01)\n",
      "\n",
      "Test score: 0.80026(+/- 0.02)\n",
      "\n",
      "Runtime: 36.616050990000076 seconds\n",
      "\n",
      "Confusion matrix:\n",
      "\n",
      " [[1976  256   82]\n",
      " [  77 2154   50]\n",
      " [  16   35 2238]]\n",
      "\n",
      "Classification Report:\n",
      "\n",
      "             precision    recall  f1-score   support\n",
      "\n",
      "         -1       0.96      0.85      0.90      2314\n",
      "          0       0.88      0.94      0.91      2281\n",
      "          1       0.94      0.98      0.96      2289\n",
      "\n",
      "avg / total       0.93      0.93      0.92      6884\n",
      "\n"
     ]
    }
   ],
   "source": [
    "# Setting up grid search to return the best results for the random forest model\n",
    "rfc = ensemble.RandomForestClassifier(n_jobs=-1)\n",
    "param_grid = {'n_estimators' : [10, 20, 40, 60],\n",
    "              'class_weight': ['balanced', 'balanced_subsample'],\n",
    "             'oob_score': [True, False]}\n",
    "\n",
    "# Run grid search to find ideal parameters\n",
    "rfc_grid = GridSearchCV(rfc, param_grid, cv=5, n_jobs=-1)\n",
    "\n",
    "# Fit the model to the data\n",
    "rfc_grid.fit(X_train_tfidf, y_train_tfidf)\n",
    "\n",
    "# Run the model with the best parameters\n",
    "rfc_2 = ensemble.RandomForestClassifier(**rfc_grid.best_params_)\n",
    "run_model(rfc_2)"
   ]
  },
  {
   "cell_type": "code",
   "execution_count": 34,
   "metadata": {},
   "outputs": [
    {
     "name": "stdout",
     "output_type": "stream",
     "text": [
      "GradientBoostingClassifier(criterion='friedman_mse', init=None,\n",
      "              learning_rate=0.1, loss='deviance', max_depth=3,\n",
      "              max_features=None, max_leaf_nodes=None,\n",
      "              min_impurity_decrease=0.0, min_impurity_split=None,\n",
      "              min_samples_leaf=1, min_samples_split=2,\n",
      "              min_weight_fraction_leaf=0.0, n_estimators=100,\n",
      "              presort='auto', random_state=None, subsample=1.0, verbose=0,\n",
      "              warm_start=False) \n",
      "\n",
      "Train score: 0.71124(+/- 0.02)\n",
      "\n",
      "Test score: 0.70526(+/- 0.00)\n",
      "\n",
      "Runtime: 52.07133247999991 seconds\n",
      "\n",
      "Confusion matrix:\n",
      "\n",
      " [[1615  573  126]\n",
      " [ 334 1715  232]\n",
      " [ 125  572 1592]]\n",
      "\n",
      "Classification Report:\n",
      "\n",
      "             precision    recall  f1-score   support\n",
      "\n",
      "         -1       0.78      0.70      0.74      2314\n",
      "          0       0.60      0.75      0.67      2281\n",
      "          1       0.82      0.70      0.75      2289\n",
      "\n",
      "avg / total       0.73      0.71      0.72      6884\n",
      "\n"
     ]
    }
   ],
   "source": [
    "# Gradient Boosting Model\n",
    "gbc = ensemble.GradientBoostingClassifier()\n",
    "run_model(gbc)"
   ]
  },
  {
   "cell_type": "code",
   "execution_count": null,
   "metadata": {},
   "outputs": [],
   "source": [
    "# Neural Network Model\n",
    "mlp = MLPClassifier(hidden_layer_sizes=(100,10))\n",
    "run_model(mlp)"
   ]
  },
  {
   "cell_type": "code",
   "execution_count": null,
   "metadata": {},
   "outputs": [],
   "source": [
    "# Create dataframes for the models and the scores\n",
    "results = pd.DataFrame({'Model': models,\n",
    "                        'Train_score': train_score,\n",
    "                        'Test_score': test_score,\n",
    "                        'Runtime': runtime})\n",
    "\n",
    "# Print out the results\n",
    "print('Scores: \\n', results, '\\n')"
   ]
  },
  {
   "cell_type": "code",
   "execution_count": null,
   "metadata": {},
   "outputs": [],
   "source": [
    "# (Heavily consider separating the two later)\n",
    "\n",
    "trace1 = go.Bar(\n",
    "    x = results.Model,\n",
    "    y = results.Test_score,\n",
    "    name = 'Test Score'\n",
    ")\n",
    "\n",
    "trace2 = go.Bar(\n",
    "    x = results.Model,\n",
    "    y = results.Runtime,\n",
    "    name = 'Runtime'\n",
    ")\n",
    "\n",
    "data = [trace1, trace2]\n",
    "layout = go.Layout(\n",
    "    title = 'Results',\n",
    "    barmode = 'group'\n",
    ")\n",
    "\n",
    "fig = go.Figure(data=data, layout=layout)\n",
    "py.offline.iplot(fig, filename='stacked-bar')"
   ]
  },
  {
   "cell_type": "markdown",
   "metadata": {},
   "source": [
    "## Model Comparison\n",
    "\n",
    "So, after running all 4 types of models it seems as though logistic regression took the least time, but random forests fared almost as well due to parallelization and forgiving parameters, and is also the most accurate of the 4. While it was prone to overfitting, it still behaves well enough for the training set\n",
    "\n",
    "## Clustering\n",
    "\n",
    "Now, it's time to determine if we can identify any trends with our data through unsupervised machine learning. The way that we'll be doing that is through clustering, to determine if there are groups of tweet with a similar tf-idf score"
   ]
  },
  {
   "cell_type": "code",
   "execution_count": null,
   "metadata": {},
   "outputs": [],
   "source": [
    "X_train.head()"
   ]
  },
  {
   "cell_type": "code",
   "execution_count": null,
   "metadata": {},
   "outputs": [],
   "source": [
    "# Size of graph\n",
    "X_train.dropna(inplace=True)\n",
    "plt.rcParams['figure.figsize'] = [8,5]\n",
    "\n",
    "# k means determine k\n",
    "distortions = []\n",
    "K = range(1,10)\n",
    "for k in K:\n",
    "    kmeanModel = KMeans(n_clusters=k).fit(X_train)\n",
    "    kmeanModel.fit(X_train)\n",
    "    distortions.append(sum(np.min(cdist(X_train, kmeanModel.cluster_centers_, 'euclidean'), axis=1)) / X_train_tfidf.shape[0])\n",
    "\n",
    "# Plot the elbow\n",
    "plt.plot(K, distortions, 'bx-')\n",
    "plt.xlabel('k')\n",
    "plt.ylabel('Distortion')\n",
    "plt.title('The Elbow Method showing the optimal k')\n",
    "plt.show()"
   ]
  },
  {
   "cell_type": "code",
   "execution_count": null,
   "metadata": {},
   "outputs": [],
   "source": [
    "# Calulate predicted values\n",
    "kmeans = KMeans(n_clusters=3, init='k-means++', random_state=42, n_init=20)\n",
    "y_pred = kmeans.fit_predict(X_train)\n",
    "\n",
    "pd.crosstab(y_train_tfidf, y_pred)"
   ]
  },
  {
   "cell_type": "code",
   "execution_count": null,
   "metadata": {},
   "outputs": [],
   "source": [
    "plt.figure(figsize=(6,6))\n",
    "\n",
    "# We are limiting our feature space to 2 components here. \n",
    "#  This makes it easier to graph and see the clusters.\n",
    "svd= TruncatedSVD(2)\n",
    "\n",
    "# Normalize the data.\n",
    "X_norm = normalize(X_train)\n",
    "\n",
    "# Reduce it to two components.\n",
    "X_svd = svd.fit_transform(X_norm)\n",
    "\n",
    "# Calculate predicted values.\n",
    "y_pred = KMeans(n_clusters=3, random_state=42).fit_predict(X_svd)\n",
    "\n",
    "# Plot the solution.\n",
    "plt.scatter(X_svd[:, 0], X_svd[:, 1], c=y_pred, cmap='viridis')\n",
    "plt.show()"
   ]
  },
  {
   "cell_type": "code",
   "execution_count": null,
   "metadata": {},
   "outputs": [],
   "source": [
    "# Check the solution against the data.\n",
    "print('Comparing k-means clusters against the data:')\n",
    "print(pd.crosstab(y_pred, y_train_tfidf))"
   ]
  },
  {
   "cell_type": "code",
   "execution_count": null,
   "metadata": {},
   "outputs": [],
   "source": [
    "# View clustering score\n",
    "print('Adjusted Rand Score: {:0.7}'.format(adjusted_rand_score(y_train_tfidf, y_pred)))\n",
    "print('Silhouette Score: {:0.7}'.format(silhouette_score(X_train, y_pred, sample_size=60000, metric='euclidean')))"
   ]
  },
  {
   "cell_type": "markdown",
   "metadata": {},
   "source": [
    "# Testing Set\n",
    "\n",
    "Finally, we get to open the testing set. What if we decide to look at more recent tweets from the same airline, or how about we also decide to look at other airlines that weren't even in our dataset? \n",
    "\n",
    "Enough with the hypotheticals. The next dataset is a collection of recent tweets containing the testing data that we want and while we won't be able to assess its accuracy since we don't have the correct values, we should be able to get a good idea of measuring sentiment analysis for more recent tweets targetting the airlines in our dataset, as well as other airlines that actually aren't in our model. \n",
    "\n",
    "What this will demonstrate is how useful our models are for predicting sentiment analysis for tweets that our model has not seen yet."
   ]
  },
  {
   "cell_type": "code",
   "execution_count": null,
   "metadata": {},
   "outputs": [],
   "source": [
    "# Import the training dataset\n",
    "tweets_test = pd.read_csv(\"airline_tweets/test_set.csv\", usecols=[1,2])\n",
    "\n",
    "# Preview the data\n",
    "tweets_test.head()"
   ]
  },
  {
   "cell_type": "code",
   "execution_count": null,
   "metadata": {},
   "outputs": [],
   "source": [
    "# View size of the testing dataframe\n",
    "tweets_test.shape"
   ]
  },
  {
   "cell_type": "code",
   "execution_count": null,
   "metadata": {},
   "outputs": [],
   "source": [
    "# Print unique airlines in the test dataset\n",
    "sorted(tweets_test['airline'].unique())"
   ]
  },
  {
   "cell_type": "markdown",
   "metadata": {},
   "source": [
    "Since the original dataset was obtained in February 2015, two of the airlines in the dataset no longer operate under the same name, 'US Airways' and 'Virgin' which have since merged with 'American' and 'Alaska' respectively. Due to this, we can only compare the remaining 4 airlines in the original dataset with 6 other major airlines currently in service in the United States."
   ]
  },
  {
   "cell_type": "code",
   "execution_count": null,
   "metadata": {},
   "outputs": [],
   "source": [
    "# Remove non-essential punctuation from the tweets\n",
    "pd.options.display.max_colwidth = 200\n",
    "tweets_test['text'] = tweets_test['text'].map(lambda x: text_cleaner(str(x)))\n",
    "\n",
    "# Reduce all text to their lemmas\n",
    "for tweet in tweets_test['text']:\n",
    "    tweet = lemmatizer.lemmatize(tweet)\n",
    "    \n",
    "# Specify the new test input\n",
    "X = tweets_test['text']\n",
    "\n",
    "# Apply the vectorizer to the test data\n",
    "X_tfidf_2 = vectorizer.fit_transform(X)\n",
    "\n",
    "# Predict the results using our best model\n",
    "tweets_test['airline_sentiment'] = rfc_2.predict(X_tfidf_2)"
   ]
  },
  {
   "cell_type": "code",
   "execution_count": null,
   "metadata": {},
   "outputs": [],
   "source": [
    "# Modify values of sentiment to numerical values\n",
    "sentiment = {-1:'negative', 0:'neutral', 1:'positive'}\n",
    "tweets_test['airline_sentiment'] = tweets_test['airline_sentiment'].map(lambda x: sentiment[x])"
   ]
  },
  {
   "cell_type": "code",
   "execution_count": null,
   "metadata": {},
   "outputs": [],
   "source": [
    "# View distribution of tweets by sentiment \n",
    "# (Changing colors to red/gray/green would be nice)\n",
    "trace = go.Pie(labels=tweets_test['airline_sentiment'].value_counts().index, \n",
    "              values=tweets_test['airline_sentiment'].value_counts())\n",
    "\n",
    "# Create the layout\n",
    "layout = go.Layout(\n",
    "    title = 'Tweet Sentiment (Nov 2018)',\n",
    "    height = 400,\n",
    "    width = 500,\n",
    "    autosize = False,\n",
    "    yaxis = dict(title='Number of tweets')\n",
    ")\n",
    "\n",
    "fig = go.Figure(data = [trace], layout = layout)\n",
    "py.offline.iplot(fig, filename='cufflinks/simple')"
   ]
  },
  {
   "cell_type": "markdown",
   "metadata": {},
   "source": [
    "When we apply the random forest model to our testing dataset, the results do look a bit more ... negative. Now, the differences in our dataset could be due to a number of things, so let's take a look at the data and see what our model spit out."
   ]
  },
  {
   "cell_type": "code",
   "execution_count": null,
   "metadata": {},
   "outputs": [],
   "source": [
    "# Pivot table of airline sentiment\n",
    "tweets_test.pivot_table(index=['airline_sentiment'],columns='airline', aggfunc='size', fill_value=0)"
   ]
  },
  {
   "cell_type": "code",
   "execution_count": null,
   "metadata": {
    "scrolled": true
   },
   "outputs": [],
   "source": [
    "# # Show distribution of texts\n",
    "\n",
    "# trace1 = go.Bar(\n",
    "#     x = sorted(tweets_test['airline'].unique()),\n",
    "#     y = (tweets_test[tweets_test['airline_sentiment'] == 'negative'].groupby('airline')['airline_sentiment'].value_counts().values) / (tweets_test['airline'].value_counts().sort_index().values),\n",
    "#     name = 'Negative',\n",
    "#     marker = dict(color='rgba(200,0,0,.7)')\n",
    "# )\n",
    "\n",
    "# trace2 = go.Bar(\n",
    "#     x = sorted(tweets_test['airline'].unique()),\n",
    "#     y = (tweets_test[tweets_test['airline_sentiment'] == 'neutral'].groupby('airline')['airline_sentiment'].value_counts().values) / (tweets_test['airline'].value_counts().sort_index().values),\n",
    "#     name = 'Neutral',\n",
    "#     marker = dict(color='rgba(150,150,150,.7)')\n",
    "# )\n",
    "\n",
    "# trace3 = go.Bar(\n",
    "#     x = sorted(tweets_test['airline'].unique()),\n",
    "#     y = (tweets_test[tweets_test['airline_sentiment'] == 'positive'].groupby('airline')['airline_sentiment'].value_counts().values) / (tweets_test['airline'].value_counts().sort_index().values),\n",
    "#     name = 'Positive',\n",
    "#     marker = dict(color='rgba(0,200,0,.7)')\n",
    "# )\n",
    "\n",
    "# data = [trace1, trace2, trace3]\n",
    "# layout = go.Layout(\n",
    "#     title = 'Airline Sentiment (Percentage)',\n",
    "#     barmode='group',\n",
    "#     yaxis = dict(title='% of tweets')\n",
    "# )\n",
    "\n",
    "# fig = go.Figure(data=data, layout=layout)\n",
    "# py.offline.iplot(fig, filename='stacked-bar')"
   ]
  },
  {
   "cell_type": "markdown",
   "metadata": {},
   "source": [
    "<div class=\"alert alert-block alert-warning\">\n",
    "For the above visual, please feel free to toggle the sentiment categories on the right. For example, toggle negative and neutral off to view only positive tweets.\n",
    "</div>\n",
    "\n",
    "The model predicted so few positive results that these bars do look a bit off. Wasn't 'American' one of the most poorly received in the training set? You would be correct, but that doesn't appear to be the case here. \n",
    "\n",
    "* The training set was acquired in February 2015, and our test set in November 2018\n",
    "* We didn't capture enough characteristics / words in our original model, and require a larger data set."
   ]
  },
  {
   "cell_type": "code",
   "execution_count": null,
   "metadata": {},
   "outputs": [],
   "source": [
    "# Preview the top tweets for @AlaskaAir to see the correlation between tweets and predicted results\n",
    "tweets_test.loc[tweets_test['airline']=='@AlaskaAir'].head()"
   ]
  },
  {
   "cell_type": "code",
   "execution_count": null,
   "metadata": {},
   "outputs": [],
   "source": [
    "# Preview the top tweets for 'American' in our test set\n",
    "tweets.loc[tweets['airline']=='American'].head()"
   ]
  },
  {
   "cell_type": "markdown",
   "metadata": {},
   "source": [
    "## Conclusion\n",
    "\n",
    "For this project, I aimed to build the best model that I could for performing sentiment analysis based on a fairly small training set, and apply the model to a more recent, equally sized testing set. Based on the training, and validation steps of the process, the model was able to do fairly well within the dataset, but when tasked to apply the same model on external data, the model wasn't able to hold up quite as well.\n",
    "\n",
    "## Next Steps\n",
    "\n",
    "Granted, the project may not achieved an ideal outcome, it has a sufficient framework for performing the task, and would likely stand to benefit from inputting more data, in the training phase, and incorporating a larger vocabulary, or testing it with an expansive word2vec model."
   ]
  },
  {
   "cell_type": "code",
   "execution_count": 1,
   "metadata": {},
   "outputs": [
    {
     "data": {
      "text/html": [
       "<script src=\"https://cdn.rawgit.com/parente/4c3e6936d0d7a46fd071/raw/65b816fb9bdd3c28b4ddf3af602bfd6015486383/code_toggle.js\"></script>"
      ],
      "text/plain": [
       "<IPython.core.display.HTML object>"
      ]
     },
     "metadata": {},
     "output_type": "display_data"
    }
   ],
   "source": [
    "get_ipython().run_cell_magic('html', '', '<script src=\"https://cdn.rawgit.com/parente/4c3e6936d0d7a46fd071/raw/65b816fb9bdd3c28b4ddf3af602bfd6015486383/code_toggle.js\"></script>')"
   ]
  }
 ],
 "metadata": {
  "kernelspec": {
   "display_name": "Python 3",
   "language": "python",
   "name": "python3"
  },
  "language_info": {
   "codemirror_mode": {
    "name": "ipython",
    "version": 3
   },
   "file_extension": ".py",
   "mimetype": "text/x-python",
   "name": "python",
   "nbconvert_exporter": "python",
   "pygments_lexer": "ipython3",
   "version": "3.7.0"
  }
 },
 "nbformat": 4,
 "nbformat_minor": 2
}
